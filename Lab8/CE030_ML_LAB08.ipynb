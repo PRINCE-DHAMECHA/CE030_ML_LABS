{
  "nbformat": 4,
  "nbformat_minor": 0,
  "metadata": {
    "colab": {
      "provenance": []
    },
    "kernelspec": {
      "name": "python3",
      "display_name": "Python 3"
    },
    "language_info": {
      "name": "python"
    }
  },
  "cells": [
    {
      "cell_type": "code",
      "execution_count": 84,
      "metadata": {
        "id": "TLJpGMuOt8Qw"
      },
      "outputs": [],
      "source": [
        "import pandas as pd\n",
        "import numpy as np\n",
        "from sklearn.metrics import accuracy_score\n",
        "import sklearn\n",
        "from sklearn.datasets import load_breast_cancer\n",
        "import io\n",
        "from sklearn import preprocessing\n",
        "from sklearn.model_selection import train_test_split"
      ]
    },
    {
      "cell_type": "code",
      "source": [
        "data = load_breast_cancer()\n",
        "data.target_names, data.feature_names\n",
        "X = preprocessing.MinMaxScaler().fit_transform(data.data)\n",
        "y = data.target\n",
        "X_train, X_test, y_train, y_test = train_test_split(X,y,train_size = 0.85)\n",
        "\n",
        "X_train_1, X_test_1, y_train_1, y_test_1 = train_test_split(X_train, y_train, train_size=0.75)\n",
        "X_train_2, X_test_2, y_train_2, y_test_2 = train_test_split(X_train, y_train, train_size=0.75)\n",
        "X_train_3, X_test_3, y_train_3, y_test_3 = train_test_split(X_train, y_train, train_size=0.75)"
      ],
      "metadata": {
        "id": "-zVFAw6W3lkU"
      },
      "execution_count": 85,
      "outputs": []
    },
    {
      "cell_type": "code",
      "source": [
        "from sklearn import tree\n",
        "from sklearn import metrics\n",
        "\n",
        "model_1 = tree.DecisionTreeClassifier(max_depth=1)\n",
        "model_1 = model_1.fit(X_train_1, y_train_1)\n",
        "y_pred_1 = model_1.predict(X_test_1)\n",
        "print(\"Accuracy \",metrics.accuracy_score(y_test_1, y_pred_1))\n",
        "print(\"Precision \",metrics.precision_score(y_test_1,y_pred_1))\n",
        "print(\"Recall \",metrics.recall_score(y_test_1,y_pred_1))\n",
        "print(\"F1 \",metrics.f1_score(y_test_1,y_pred_1))"
      ],
      "metadata": {
        "colab": {
          "base_uri": "https://localhost:8080/"
        },
        "id": "UMSpj1fEtxeV",
        "outputId": "02836a93-1a3c-457d-c614-3ff2826f14ec"
      },
      "execution_count": 86,
      "outputs": [
        {
          "output_type": "stream",
          "name": "stdout",
          "text": [
            "Accuracy  0.9008264462809917\n",
            "Precision  0.9047619047619048\n",
            "Recall  0.95\n",
            "F1  0.9268292682926829\n"
          ]
        }
      ]
    },
    {
      "cell_type": "code",
      "source": [
        "from sklearn.naive_bayes import GaussianNB\n",
        "\n",
        "model_2 = GaussianNB().fit(X_train_2, y_train_2)\n",
        "y_pred_2 = model_2.predict(X_test_2)\n",
        "print(\"Accuracy \",metrics.accuracy_score(y_test_2, y_pred_2))\n",
        "print(\"Precision \",metrics.precision_score(y_test_2,y_pred_2))\n",
        "print(\"Recall \",metrics.recall_score(y_test_2,y_pred_2))\n",
        "print(\"F1 \",metrics.f1_score(y_test_2,y_pred_2))"
      ],
      "metadata": {
        "colab": {
          "base_uri": "https://localhost:8080/"
        },
        "id": "R7sLPLuJtxhZ",
        "outputId": "e016b24b-954c-480e-c426-0c1e0b00cadc"
      },
      "execution_count": 87,
      "outputs": [
        {
          "output_type": "stream",
          "name": "stdout",
          "text": [
            "Accuracy  0.8925619834710744\n",
            "Precision  0.9125\n",
            "Recall  0.9240506329113924\n",
            "F1  0.9182389937106918\n"
          ]
        }
      ]
    },
    {
      "cell_type": "code",
      "source": [
        "from sklearn.naive_bayes import MultinomialNB\n",
        "\n",
        "model_3 = MultinomialNB().fit(X_train_3, y_train_3)\n",
        "y_pred_3 = model_3.predict(X_test_3)\n",
        "print(\"Accuracy \",metrics.accuracy_score(y_test_3, y_pred_3))\n",
        "print(\"Precision \",metrics.precision_score(y_test_3,y_pred_3))\n",
        "print(\"Recall \",metrics.recall_score(y_test_3,y_pred_3))\n",
        "print(\"F1 \",metrics.f1_score(y_test_3,y_pred_3))"
      ],
      "metadata": {
        "colab": {
          "base_uri": "https://localhost:8080/"
        },
        "id": "yUENQPnttxkj",
        "outputId": "03ed99b7-5250-4933-b7bc-1a05cf260f70"
      },
      "execution_count": 88,
      "outputs": [
        {
          "output_type": "stream",
          "name": "stdout",
          "text": [
            "Accuracy  0.9008264462809917\n",
            "Precision  0.8850574712643678\n",
            "Recall  0.9746835443037974\n",
            "F1  0.927710843373494\n"
          ]
        }
      ]
    },
    {
      "cell_type": "code",
      "source": [
        "from sklearn.linear_model import LogisticRegression\n",
        "\n",
        "y_train_final = []\n",
        "X_train_final = []\n",
        "y_train_final_1 = model_1.predict(X_train)\n",
        "y_train_final_2 = model_2.predict(X_train)\n",
        "y_train_final_3 = model_3.predict(X_train)\n",
        "\n",
        "for i in range(len(y_train_final_1)):\n",
        "  X_train_final.append([y_train_final_1[i], y_train_final_2[i], y_train_final_3[i]])\n",
        "  y_train_final.append(y_train[i])\n",
        "model_final = LogisticRegression().fit(X_train_final, y_train_final)\n",
        "X_test_final = []\n",
        "y_test_final = []\n",
        "y_test_final_1 = model_1.predict(X_test)\n",
        "y_test_final_2 = model_2.predict(X_test)\n",
        "y_test_final_3 = model_3.predict(X_test)\n",
        "\n",
        "for i in range(len(y_test_final_1)):\n",
        "  X_test_final.append([y_test_final_1[i], y_test_final_2[i], y_test_final_3[i]])\n",
        "  y_test_final.append(y_test[i])\n",
        "\n",
        "y_pred_final = model_final.predict(X_test_final)\n",
        "print(\"Accuracy \",metrics.accuracy_score(y_test_final, y_pred_final))\n",
        "print(\"Precision \",metrics.precision_score(y_test_final,y_pred_final))\n",
        "print(\"Recall \",metrics.recall_score(y_test_final,y_pred_final))\n",
        "print(\"F1 \",metrics.f1_score(y_test_final,y_pred_final))"
      ],
      "metadata": {
        "colab": {
          "base_uri": "https://localhost:8080/"
        },
        "id": "-ACPF-ZZugyr",
        "outputId": "c335c1da-923d-4fa3-f2b2-5df4b406b30b"
      },
      "execution_count": 89,
      "outputs": [
        {
          "output_type": "stream",
          "name": "stdout",
          "text": [
            "Accuracy  0.9418604651162791\n",
            "Precision  0.9642857142857143\n",
            "Recall  0.9473684210526315\n",
            "F1  0.9557522123893805\n"
          ]
        }
      ]
    },
    {
      "cell_type": "code",
      "source": [
        "from sklearn.ensemble import StackingClassifier\n",
        "\n",
        "estimators = [('gnb', GaussianNB()),('dt', tree.DecisionTreeClassifier(max_depth=1)),('mnb', MultinomialNB())]\n",
        "model_stacked = StackingClassifier(estimators=estimators).fit(X_train, y_train)\n",
        "y_pred_stacked = model_stacked.predict(X_test)\n",
        "print(\"Accuracy \",metrics.accuracy_score(y_test, y_pred_stacked))\n",
        "print(\"Precision \",metrics.precision_score(y_test,y_pred_stacked))\n",
        "print(\"Recall \",metrics.recall_score(y_test,y_pred_stacked))\n",
        "print(\"F1 \",metrics.f1_score(y_test,y_pred_stacked))\n",
        "\n",
        "\n"
      ],
      "metadata": {
        "colab": {
          "base_uri": "https://localhost:8080/"
        },
        "id": "lSsr03Teug1d",
        "outputId": "d7934787-0824-4789-f06f-167d5bcb1dfe"
      },
      "execution_count": 90,
      "outputs": [
        {
          "output_type": "stream",
          "name": "stdout",
          "text": [
            "Accuracy  0.9418604651162791\n",
            "Precision  0.9814814814814815\n",
            "Recall  0.9298245614035088\n",
            "F1  0.954954954954955\n"
          ]
        }
      ]
    },
    {
      "cell_type": "code",
      "source": [
        "from sklearn.ensemble import BaggingClassifier\n",
        "\n",
        "model_bagged = BaggingClassifier(max_features = 0.67).fit(X_train, y_train)\n",
        "y_pred_bagged = model_bagged.predict(X_test)\n",
        "print(\"Accuracy \",metrics.accuracy_score(y_test, y_pred_bagged))\n",
        "print(\"Precision \",metrics.precision_score(y_test,y_pred_bagged))\n",
        "print(\"Recall \",metrics.recall_score(y_test,y_pred_bagged))\n",
        "print(\"F1 \",metrics.f1_score(y_test,y_pred_bagged))"
      ],
      "metadata": {
        "colab": {
          "base_uri": "https://localhost:8080/"
        },
        "id": "KUdJphxul3Vr",
        "outputId": "018044d4-23d0-461e-c7e7-93c5bcb71b1e"
      },
      "execution_count": 91,
      "outputs": [
        {
          "output_type": "stream",
          "name": "stdout",
          "text": [
            "Accuracy  0.9651162790697675\n",
            "Precision  1.0\n",
            "Recall  0.9473684210526315\n",
            "F1  0.972972972972973\n"
          ]
        }
      ]
    },
    {
      "cell_type": "code",
      "source": [
        "from sklearn.ensemble import RandomForestClassifier\n",
        "\n",
        "model_random_forest = RandomForestClassifier(n_estimators=100).fit(X_train, y_train)\n",
        "y_pred_random_forest = model_random_forest.predict(X_test)\n",
        "print(\"Accuracy \",metrics.accuracy_score(y_test, y_pred_random_forest))\n",
        "print(\"Precision \",metrics.precision_score(y_test,y_pred_random_forest))\n",
        "print(\"Recall \",metrics.recall_score(y_test,y_pred_random_forest))\n",
        "print(\"F1 \",metrics.f1_score(y_test,y_pred_random_forest))\n",
        "\n",
        "\n"
      ],
      "metadata": {
        "id": "IXPoYTGYug4f",
        "colab": {
          "base_uri": "https://localhost:8080/"
        },
        "outputId": "a4cdedcb-a56c-4d0d-d638-310b76184ff5"
      },
      "execution_count": 92,
      "outputs": [
        {
          "output_type": "stream",
          "name": "stdout",
          "text": [
            "Accuracy  0.9767441860465116\n",
            "Precision  1.0\n",
            "Recall  0.9649122807017544\n",
            "F1  0.9821428571428572\n"
          ]
        }
      ]
    },
    {
      "cell_type": "code",
      "source": [
        "from sklearn.ensemble import AdaBoostClassifier\n",
        "\n",
        "model_adaboost = AdaBoostClassifier(n_estimators=100, learning_rate=1).fit(X_train, y_train)\n",
        "y_pred_adaboost = model_adaboost.predict(X_test)\n",
        "print(\"Accuracy \",metrics.accuracy_score(y_test, y_pred_adaboost))\n",
        "print(\"Precision \",metrics.precision_score(y_test,y_pred_adaboost))\n",
        "print(\"Recall \",metrics.recall_score(y_test,y_pred_adaboost))\n",
        "print(\"F1 \",metrics.f1_score(y_test,y_pred_adaboost))"
      ],
      "metadata": {
        "colab": {
          "base_uri": "https://localhost:8080/"
        },
        "id": "h2p5fhGYl5jp",
        "outputId": "b9b1a1e2-9cb6-4ee1-cddc-62f25c07e79d"
      },
      "execution_count": 93,
      "outputs": [
        {
          "output_type": "stream",
          "name": "stdout",
          "text": [
            "Accuracy  0.9883720930232558\n",
            "Precision  1.0\n",
            "Recall  0.9824561403508771\n",
            "F1  0.9911504424778761\n"
          ]
        }
      ]
    },
    {
      "cell_type": "code",
      "source": [
        "datasets = pd.read_csv('Contrete.csv')"
      ],
      "metadata": {
        "id": "LYRUWAw5wV2h"
      },
      "execution_count": 94,
      "outputs": []
    },
    {
      "cell_type": "code",
      "source": [
        "X = datasets.iloc[:, :-1].values\n",
        "y = datasets.iloc[:, -1].values\n",
        "print(\"\\n\\nInput : \\n\", X)\n",
        "print(\"\\n\\nOutput: \\n\", y)\n",
        "from sklearn.model_selection import train_test_split\n",
        "X_train, X_test, y_train, y_test = train_test_split(datasets, y, test_size = 0.25, random_state = 97)"
      ],
      "metadata": {
        "colab": {
          "base_uri": "https://localhost:8080/"
        },
        "id": "a5Lhg1iQwrcX",
        "outputId": "a0b1b624-45b0-471e-acc6-947736d1f0b7"
      },
      "execution_count": 95,
      "outputs": [
        {
          "output_type": "stream",
          "name": "stdout",
          "text": [
            "\n",
            "\n",
            "Input : \n",
            " [[ 540.     0.     0.  ... 1040.   676.    28. ]\n",
            " [ 540.     0.     0.  ... 1055.   676.    28. ]\n",
            " [ 332.5  142.5    0.  ...  932.   594.   270. ]\n",
            " ...\n",
            " [ 148.5  139.4  108.6 ...  892.4  780.    28. ]\n",
            " [ 159.1  186.7    0.  ...  989.6  788.9   28. ]\n",
            " [ 260.9  100.5   78.3 ...  864.5  761.5   28. ]]\n",
            "\n",
            "\n",
            "Output: \n",
            " [79.99 61.89 40.27 ... 23.7  32.77 32.4 ]\n"
          ]
        }
      ]
    },
    {
      "cell_type": "code",
      "source": [
        "from sklearn.ensemble import AdaBoostRegressor\n",
        "from sklearn.tree import DecisionTreeRegressor\n",
        "DTR=DecisionTreeRegressor(max_depth=1)\n",
        "RegModel = AdaBoostRegressor(n_estimators=50, base_estimator=DTR ,learning_rate=1)\n",
        "AB=RegModel.fit(X_train,y_train)\n",
        "y_pred=AB.predict(X_test)\n",
        "from sklearn import metrics\n",
        "print(\"Accuracy: \",RegModel.score(X_test, y_test))"
      ],
      "metadata": {
        "colab": {
          "base_uri": "https://localhost:8080/"
        },
        "id": "bq6emootxnBU",
        "outputId": "e5a87703-2bf8-4c0a-d870-dc02c6298871"
      },
      "execution_count": 96,
      "outputs": [
        {
          "output_type": "stream",
          "name": "stdout",
          "text": [
            "Accuracy:  0.7649888839655601\n"
          ]
        }
      ]
    },
    {
      "cell_type": "code",
      "source": [],
      "metadata": {
        "id": "hROdSlcymNHa"
      },
      "execution_count": 96,
      "outputs": []
    }
  ]
}