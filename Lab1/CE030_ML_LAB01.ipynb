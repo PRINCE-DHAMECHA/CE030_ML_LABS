{
  "cells": [
    {
      "cell_type": "markdown",
      "metadata": {
        "id": "UcRTQ-jt-I9A"
      },
      "source": [
        "## Q 2: Write the function to generate random numbers from a normal distribution with mean 0 and **variance** 1."
      ]
    },
    {
      "cell_type": "code",
      "execution_count": null,
      "metadata": {
        "id": "-fooUXkG8xen"
      },
      "outputs": [],
      "source": [
        "import numpy as np\n",
        "def generate_random_numbers(n):\n",
        "    random_numbers = np.random.normal(loc=0, scale=1, size=n)\n",
        "    return random_numbers\n"
      ]
    },
    {
      "cell_type": "markdown",
      "metadata": {
        "id": "JWtQ9Ih9-6Ig"
      },
      "source": [
        "## Q 3: Create a 1D array arr1 with 10 elements.\n",
        "## (a) Slice this array starting from 3rd value to the end.\n",
        "## (b) What is the result if you perform the following slicing on the given array. arr1[-4:-2]"
      ]
    },
    {
      "cell_type": "code",
      "execution_count": null,
      "metadata": {
        "colab": {
          "base_uri": "https://localhost:8080/"
        },
        "id": "vhOxZJnX84v5",
        "outputId": "4da5ed31-304b-4e33-9f04-3bf6728622fe"
      },
      "outputs": [
        {
          "name": "stdout",
          "output_type": "stream",
          "text": [
            "[4 3 1 7 9 1 5 0 5 9]\n"
          ]
        }
      ],
      "source": [
        "arr1 = np.random.randint(0,10,10)\n",
        "print(arr1)"
      ]
    },
    {
      "cell_type": "code",
      "execution_count": null,
      "metadata": {
        "colab": {
          "base_uri": "https://localhost:8080/"
        },
        "id": "Fzb4rWNk-zTI",
        "outputId": "af650892-b328-4c96-87e6-f7e5528cd8d6"
      },
      "outputs": [
        {
          "data": {
            "text/plain": [
              "array([7, 9, 1, 5, 0, 5, 9])"
            ]
          },
          "execution_count": 6,
          "metadata": {},
          "output_type": "execute_result"
        }
      ],
      "source": [
        "arr1[3:11]"
      ]
    },
    {
      "cell_type": "code",
      "execution_count": null,
      "metadata": {
        "colab": {
          "base_uri": "https://localhost:8080/"
        },
        "id": "Vc0iH4-R_KbF",
        "outputId": "78b1c632-ddc8-4a72-81ab-b0cb6cd470f8"
      },
      "outputs": [
        {
          "data": {
            "text/plain": [
              "array([5, 0])"
            ]
          },
          "execution_count": 7,
          "metadata": {},
          "output_type": "execute_result"
        }
      ],
      "source": [
        "arr1[-4:-2]"
      ]
    },
    {
      "cell_type": "markdown",
      "metadata": {
        "id": "Shurz5YbAUIi"
      },
      "source": [
        "## Q 4: Create two numpy arrays of size 4 x 4. Write functions used to calculate determinant of matrix, transpose of a matrix, norm of a matrix and to perform matrix multiplication. Write all the results."
      ]
    },
    {
      "cell_type": "code",
      "execution_count": null,
      "metadata": {
        "id": "GAjMFjVfAB8Z"
      },
      "outputs": [],
      "source": [
        "import numpy as np\n",
        "\n",
        "# Create two 4x4 arrays\n",
        "A = np.array([[1, 2, 3, 4],\n",
        "              [5, 6, 7, 8],\n",
        "              [9, 10, 11, 12],\n",
        "              [13, 14, 15, 16]])\n",
        "\n",
        "B = np.array([[16, 15, 14, 13],\n",
        "              [12, 11, 10, 9],\n",
        "              [8, 7, 6, 5],\n",
        "              [4, 3, 2, 1]])\n"
      ]
    },
    {
      "cell_type": "code",
      "execution_count": null,
      "metadata": {
        "id": "PYc8Pjm6A71Q"
      },
      "outputs": [],
      "source": [
        "def calculate_determinant(matrix):\n",
        "    return np.linalg.det(matrix)\n",
        "\n",
        "\n",
        "def calculate_transpose(matrix):\n",
        "    return np.transpose(matrix)\n",
        "\n",
        "\n",
        "def calculate_norm(matrix):\n",
        "    return np.linalg.norm(matrix)\n",
        "\n",
        "\n",
        "def perform_matrix_multiplication(matrix1, matrix2):\n",
        "    return np.matmul(matrix1, matrix2)\n"
      ]
    },
    {
      "cell_type": "code",
      "execution_count": null,
      "metadata": {
        "colab": {
          "base_uri": "https://localhost:8080/"
        },
        "id": "IJAmZ5PuBDaD",
        "outputId": "ca7b19dc-f0f3-4636-e4a4-8c5f91af67d9"
      },
      "outputs": [
        {
          "name": "stdout",
          "output_type": "stream",
          "text": [
            "Determinant of A: 0.0\n",
            "\n",
            "Determinant of B: 0.0\n",
            "\n",
            "Transpose of A:\n",
            "[[ 1  5  9 13]\n",
            " [ 2  6 10 14]\n",
            " [ 3  7 11 15]\n",
            " [ 4  8 12 16]]\n",
            "\n",
            "Transpose of B:\n",
            "[[16 12  8  4]\n",
            " [15 11  7  3]\n",
            " [14 10  6  2]\n",
            " [13  9  5  1]]\n",
            "\n",
            "Norm of A: 38.67815921162743\n",
            "\n",
            "Norm of B: 38.67815921162743\n",
            "\n",
            "Matrix multiplication of A and B:\n",
            "[[ 80  70  60  50]\n",
            " [240 214 188 162]\n",
            " [400 358 316 274]\n",
            " [560 502 444 386]]\n",
            "\n"
          ]
        }
      ],
      "source": [
        "# Calculate determinant of matrix A\n",
        "det_A = calculate_determinant(A)\n",
        "print(f\"Determinant of A: {det_A}\\n\")\n",
        "\n",
        "det_B = calculate_determinant(B)\n",
        "print(f\"Determinant of B: {det_B}\\n\")\n",
        "\n",
        "# Calculate transpose of matrix B\n",
        "transpose_A = calculate_transpose(A)\n",
        "print(f\"Transpose of A:\\n{transpose_A}\\n\")\n",
        "\n",
        "transpose_B = calculate_transpose(B)\n",
        "print(f\"Transpose of B:\\n{transpose_B}\\n\")\n",
        "\n",
        "# Calculate norm of matrix A\n",
        "norm_A = calculate_norm(A)\n",
        "print(f\"Norm of A: {norm_A}\\n\")\n",
        "\n",
        "norm_B = calculate_norm(B)\n",
        "print(f\"Norm of B: {norm_B}\\n\")\n",
        "\n",
        "# Perform matrix multiplication between matrices A and B\n",
        "matrix_multiplication_AB = perform_matrix_multiplication(A, B)\n",
        "print(f\"Matrix multiplication of A and B:\\n{matrix_multiplication_AB}\\n\")\n"
      ]
    },
    {
      "attachments": {},
      "cell_type": "markdown",
      "metadata": {
        "id": "tA9z3zwGHNWs"
      },
      "source": [
        "## Q 6: Show and compare the results generated by PorterStemmer and WordNetLemmatizer on any sample tweet from twitter dataset."
      ]
    },
    {
      "cell_type": "code",
      "execution_count": null,
      "metadata": {
        "colab": {
          "base_uri": "https://localhost:8080/"
        },
        "id": "mCPW3uMEBMih",
        "outputId": "7520ed90-bde8-4e9f-937a-6f14178b8f7b"
      },
      "outputs": [
        {
          "name": "stderr",
          "output_type": "stream",
          "text": [
            "[nltk_data] Downloading package omw-1.4 to /root/nltk_data...\n",
            "[nltk_data] Downloading package punkt to /root/nltk_data...\n",
            "[nltk_data]   Package punkt is already up-to-date!\n",
            "[nltk_data] Downloading package wordnet to /root/nltk_data...\n",
            "[nltk_data]   Package wordnet is already up-to-date!\n"
          ]
        },
        {
          "data": {
            "text/plain": [
              "True"
            ]
          },
          "execution_count": 15,
          "metadata": {},
          "output_type": "execute_result"
        }
      ],
      "source": [
        "#First, we'll need to download the nltk library and the punkt and wordnet resources. \n",
        "import nltk\n",
        "\n",
        "nltk.download('omw-1.4')\n",
        "nltk.download('punkt')\n",
        "nltk.download('wordnet')\n"
      ]
    },
    {
      "cell_type": "code",
      "execution_count": null,
      "metadata": {
        "id": "-Ya7W7WrHTBM"
      },
      "outputs": [],
      "source": [
        "tweet = \"Just saw a really cute cat video on YouTube. Can't stop smiling 😻 #cats #cutenessoverload\"\n"
      ]
    },
    {
      "cell_type": "code",
      "execution_count": null,
      "metadata": {
        "id": "shRJinCYHbwu"
      },
      "outputs": [],
      "source": [
        "from nltk.stem import PorterStemmer, WordNetLemmatizer\n",
        "from nltk.tokenize import word_tokenize\n",
        "\n",
        "# Initialize the stemmer and lemmatizer\n",
        "stemmer = PorterStemmer()\n",
        "lemmatizer = WordNetLemmatizer()\n",
        "\n",
        "# Tokenize the tweet into words\n",
        "words = word_tokenize(tweet)\n",
        "\n",
        "# Apply stemming to the words\n",
        "stemmed_words = [stemmer.stem(word) for word in words]\n",
        "\n",
        "# Apply lemmatization to the words\n",
        "lemmatized_words = [lemmatizer.lemmatize(word) for word in words]\n"
      ]
    },
    {
      "cell_type": "code",
      "execution_count": null,
      "metadata": {
        "colab": {
          "base_uri": "https://localhost:8080/"
        },
        "id": "4WszG1BbHeMl",
        "outputId": "f9be05e3-e636-4c27-dd4a-5d8da4e4c06f"
      },
      "outputs": [
        {
          "name": "stdout",
          "output_type": "stream",
          "text": [
            "Original tweet:  Just saw a really cute cat video on YouTube. Can't stop smiling 😻 #cats #cutenessoverload\n",
            "Stemmed tweet:  just saw a realli cute cat video on youtub . ca n't stop smile 😻 # cat # cutenessoverload\n",
            "Lemmatized tweet:  Just saw a really cute cat video on YouTube . Ca n't stop smiling 😻 # cat # cutenessoverload\n"
          ]
        }
      ],
      "source": [
        "print(\"Original tweet: \", tweet)\n",
        "print(\"Stemmed tweet: \", \" \".join(stemmed_words))\n",
        "print(\"Lemmatized tweet: \", \" \".join(lemmatized_words))\n"
      ]
    },
    {
      "cell_type": "code",
      "execution_count": null,
      "metadata": {
        "id": "foBvue-tHw-w"
      },
      "outputs": [],
      "source": []
    }
  ],
  "metadata": {
    "colab": {
      "provenance": []
    },
    "kernelspec": {
      "display_name": "Python 3",
      "name": "python3"
    },
    "language_info": {
      "name": "python"
    }
  },
  "nbformat": 4,
  "nbformat_minor": 0
}
